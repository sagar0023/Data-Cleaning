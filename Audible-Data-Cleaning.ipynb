{
 "cells": [
  {
   "cell_type": "markdown",
   "metadata": {
    "id": "1-EbgBO3hInD"
   },
   "source": [
    "**Problem:**\n",
    "\n",
    "You are given the following dataset:\n",
    "1. **Audible Data** : https://1drv.ms/u/s!AiqdXCxPTydhoog8ckLN-6Cw55fzIg?e=EWgZ5d\n",
    "\n",
    "Your task is to:\n",
    "- Find the problems with the datasets.\n",
    "- Define the Data Quality Dimensions.\n",
    "- Try to clean the datasets."
   ]
  },
  {
   "cell_type": "code",
   "execution_count": 2,
   "metadata": {
    "id": "mk6Vgms9cMfd"
   },
   "outputs": [],
   "source": [
    "import pandas as pd\n",
    "audible = pd.read_csv('audible_uncleaned.csv')"
   ]
  },
  {
   "cell_type": "code",
   "execution_count": 8,
   "metadata": {
    "id": "nxoqZxJMhI_y"
   },
   "outputs": [],
   "source": [
    "audible.to_excel('audible.xlsx',index=False)"
   ]
  },
  {
   "cell_type": "markdown",
   "metadata": {},
   "source": [
    "### Data Quality Dimensions\n",
    "\n",
    "- Completeness -> is data missing?\n",
    "- Validity -> is data invalid -> negative height -> duplicate patient id\n",
    "- Accuracy -> data is valid but not accurate -> weight -> 1kg\n",
    "- Consistency -> both valid and accurate but written differently -> New Youk and NY"
   ]
  },
  {
   "cell_type": "markdown",
   "metadata": {},
   "source": [
    "### Order of severity\n",
    "\n",
    "Completeness <- Validity <- Accuracy <- Consistency"
   ]
  },
  {
   "cell_type": "markdown",
   "metadata": {},
   "source": [
    "### Data Cleaning Order\n",
    "\n",
    "1. Quality -> Completeness\n",
    "2. Tidiness / Messy data\n",
    "3. Quality -> Validity\n",
    "4. Quality -> Accuracy\n",
    "5. Quality -> Consistency\n",
    "\n",
    "#### Steps involved in Data cleaning\n",
    "- Define\n",
    "- Code\n",
    "- Test\n",
    "\n",
    "`Always make sure to create a copy of your pandas dataframe before you start the cleaning process`"
   ]
  },
  {
   "cell_type": "code",
   "execution_count": 35,
   "metadata": {},
   "outputs": [],
   "source": [
    "#creating copy \n",
    "audible_df = audible.copy()"
   ]
  },
  {
   "cell_type": "markdown",
   "metadata": {},
   "source": [
    "### Dirty Data in audible table\n",
    "`name`: has extra information beside book name `consistency`\n",
    "\n",
    "`author and narrator`: multiple entries present in single cell, some cell contains `-`  `,` `consistency`\n",
    "\n",
    "`stars`: null value present as not rated yet `completion`\n",
    "\n",
    "`narrator`: has entries named anonymous , Anonymous `completion`\n",
    "\n",
    "`price`: some cells contains `,`  like 1,000.00 `validity`\n",
    "\n",
    "\n",
    "\n",
    "### Messy data in audible table\n",
    "`author`: unnecessary words are present that do not contribute to any meaning such as \n",
    "\n",
    "`author` and `narrator` : has unnecessary information as 'written by' and 'narrated by'\n",
    "\n",
    "`author and narrator`: first name and last name are not separated,different languagues present\n",
    "\n",
    "`time` and `released date`: should be in datetime format\n",
    "\n",
    "`stars` renamed as rating and should have only rating not a whole sentence and it's type should be int\n",
    "\n",
    "`price`: has object datatype should be int\n",
    "\n",
    "`language`: cotains first letter as small and somtimes capital -> should be in one form\n",
    "r ice\n",
    "\n",
    "\n",
    "\n",
    " \n"
   ]
  },
  {
   "cell_type": "markdown",
   "metadata": {},
   "source": [
    "`releasedate` , `language` , `stars` , `price` : has incorrect datatype should be datetime64,category,float,int"
   ]
  },
  {
   "cell_type": "markdown",
   "metadata": {},
   "source": [
    "### Automatic Assessment\n",
    "\n",
    "- head and tail\n",
    "- sample\n",
    "- info\n",
    "- isnull\n",
    "- duplicated\n",
    "- describe"
   ]
  },
  {
   "cell_type": "code",
   "execution_count": 37,
   "metadata": {},
   "outputs": [
    {
     "name": "stdout",
     "output_type": "stream",
     "text": [
      "<class 'pandas.core.frame.DataFrame'>\n",
      "RangeIndex: 87489 entries, 0 to 87488\n",
      "Data columns (total 8 columns):\n",
      " #   Column       Non-Null Count  Dtype \n",
      "---  ------       --------------  ----- \n",
      " 0   name         87489 non-null  object\n",
      " 1   author       87489 non-null  object\n",
      " 2   narrator     87489 non-null  object\n",
      " 3   time         87489 non-null  object\n",
      " 4   releasedate  87489 non-null  object\n",
      " 5   language     87489 non-null  object\n",
      " 6   stars        87489 non-null  object\n",
      " 7   price        87489 non-null  object\n",
      "dtypes: object(8)\n",
      "memory usage: 5.3+ MB\n"
     ]
    }
   ],
   "source": [
    "audible_df.info()"
   ]
  },
  {
   "cell_type": "code",
   "execution_count": 40,
   "metadata": {},
   "outputs": [
    {
     "name": "stdout",
     "output_type": "stream",
     "text": [
      "Initialized empty Git repository in C:/Users/DELL/Data Analysis/session 28 lecture and task/.git/\n"
     ]
    }
   ],
   "source": [
    "!git init\n"
   ]
  },
  {
   "cell_type": "code",
   "execution_count": 44,
   "metadata": {},
   "outputs": [
    {
     "name": "stderr",
     "output_type": "stream",
     "text": [
      "warning: in the working copy of 'task_28.ipynb', LF will be replaced by CRLF the next time Git touches it\n"
     ]
    }
   ],
   "source": [
    "!git add task_28.ipynb"
   ]
  },
  {
   "cell_type": "code",
   "execution_count": 52,
   "metadata": {},
   "outputs": [
    {
     "name": "stdout",
     "output_type": "stream",
     "text": [
      "[master (root-commit) c0fcfb7] write summary and assess data\n",
      " 1 file changed, 250 insertions(+)\n",
      " create mode 100644 task_28.ipynb\n"
     ]
    }
   ],
   "source": [
    "!git commit -m \"write summary and assess data\""
   ]
  },
  {
   "cell_type": "code",
   "execution_count": 108,
   "metadata": {},
   "outputs": [],
   "source": [
    "!git remote add origin https://github.com/sagar0023/Data-Cleaning.git"
   ]
  },
  {
   "cell_type": "code",
   "execution_count": 110,
   "metadata": {},
   "outputs": [
    {
     "name": "stdout",
     "output_type": "stream",
     "text": [
      "origin\thttps://github.com/sagar0023/Data-Cleaning.git (fetch)\n",
      "origin\thttps://github.com/sagar0023/Data-Cleaning.git (push)\n"
     ]
    }
   ],
   "source": [
    "!git remote -v"
   ]
  },
  {
   "cell_type": "code",
   "execution_count": 114,
   "metadata": {},
   "outputs": [
    {
     "name": "stdout",
     "output_type": "stream",
     "text": [
      "* master\n"
     ]
    }
   ],
   "source": [
    "!git push -u origin ma"
   ]
  },
  {
   "cell_type": "code",
   "execution_count": 118,
   "metadata": {},
   "outputs": [
    {
     "name": "stderr",
     "output_type": "stream",
     "text": [
      "git: 'origin' is not a git command. See 'git --help'.\n"
     ]
    }
   ],
   "source": [
    "!git origin"
   ]
  },
  {
   "cell_type": "code",
   "execution_count": 120,
   "metadata": {},
   "outputs": [
    {
     "name": "stdout",
     "output_type": "stream",
     "text": [
      "* c0fcfb7 write summary and assess data\n"
     ]
    }
   ],
   "source": [
    "!git log --oneline --all --graph"
   ]
  },
  {
   "cell_type": "code",
   "execution_count": 144,
   "metadata": {},
   "outputs": [
    {
     "name": "stdout",
     "output_type": "stream",
     "text": [
      "M\ttask_28.ipynb\n"
     ]
    },
    {
     "name": "stderr",
     "output_type": "stream",
     "text": [
      "Switched to branch 'master'\n"
     ]
    }
   ],
   "source": [
    "!git checkout master"
   ]
  },
  {
   "cell_type": "code",
   "execution_count": 148,
   "metadata": {},
   "outputs": [
    {
     "name": "stdout",
     "output_type": "stream",
     "text": [
      "Deleted branch main (was c0fcfb7).\n"
     ]
    }
   ],
   "source": [
    "!git branch -d main"
   ]
  },
  {
   "cell_type": "markdown",
   "metadata": {},
   "source": [
    "git commands to be executed\n",
    "!git add task"
   ]
  },
  {
   "cell_type": "code",
   "execution_count": 158,
   "metadata": {},
   "outputs": [],
   "source": [
    "!git restore task_28.ipynb"
   ]
  },
  {
   "cell_type": "code",
   "execution_count": 162,
   "metadata": {},
   "outputs": [
    {
     "name": "stdout",
     "output_type": "stream",
     "text": [
      "On branch master\n",
      "Your branch is up to date with 'origin/master'.\n",
      "\n",
      "Untracked files:\n",
      "  (use \"git add <file>...\" to include in what will be committed)\n",
      "\t.ipynb_checkpoints/\n",
      "\tData Wrangling.ipynb\n",
      "\tadverse_reactions.csv\n",
      "\taudible.xlsx\n",
      "\taudible_cleaned.csv\n",
      "\taudible_uncleaned.csv\n",
      "\tclinical_trials.xlsx\n",
      "\tpatients.csv\n",
      "\tsession_28_data_accessing_and_cleaning complete cleaning.ipynb\n",
      "\tsession_28_data_accessing_and_cleaning.ipynb\n",
      "\ttask_28-Copy1.ipynb\n",
      "\ttreatments.csv\n",
      "\ttreatments_cut.csv\n",
      "\n",
      "nothing added to commit but untracked files present (use \"git add\" to track)\n"
     ]
    }
   ],
   "source": [
    "!git status"
   ]
  },
  {
   "cell_type": "code",
   "execution_count": null,
   "metadata": {},
   "outputs": [],
   "source": []
  }
 ],
 "metadata": {
  "colab": {
   "provenance": []
  },
  "kernelspec": {
   "display_name": "Python 3 (ipykernel)",
   "language": "python",
   "name": "python3"
  },
  "language_info": {
   "codemirror_mode": {
    "name": "ipython",
    "version": 3
   },
   "file_extension": ".py",
   "mimetype": "text/x-python",
   "name": "python",
   "nbconvert_exporter": "python",
   "pygments_lexer": "ipython3",
   "version": "3.12.4"
  }
 },
 "nbformat": 4,
 "nbformat_minor": 4
}
