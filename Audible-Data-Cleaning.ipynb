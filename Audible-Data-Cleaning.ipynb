{
 "cells": [
  {
   "cell_type": "markdown",
   "metadata": {
    "id": "1-EbgBO3hInD"
   },
   "source": [
    "**Problem:**\n",
    "\n",
    "You are given the following dataset:\n",
    "1. **Audible Data** : https://1drv.ms/u/s!AiqdXCxPTydhoog8ckLN-6Cw55fzIg?e=EWgZ5d\n",
    "\n",
    "Your task is to:\n",
    "- Find the problems with the datasets.\n",
    "- Define the Data Quality Dimensions.\n",
    "- Try to clean the datasets."
   ]
  },
  {
   "cell_type": "code",
   "execution_count": 2,
   "metadata": {
    "id": "mk6Vgms9cMfd"
   },
   "outputs": [],
   "source": [
    "import pandas as pd\n",
    "import numpy as np\n",
    "audible = pd.read_csv('audible_uncleaned.csv')"
   ]
  },
  {
   "cell_type": "code",
   "execution_count": 3,
   "metadata": {
    "id": "nxoqZxJMhI_y"
   },
   "outputs": [],
   "source": [
    "#audible.to_excel('audible.xlsx',index=False)"
   ]
  },
  {
   "cell_type": "markdown",
   "metadata": {},
   "source": [
    "### Data Quality Dimensions\n",
    "\n",
    "- Completeness -> is data missing?\n",
    "- Validity -> is data invalid -> negative height -> duplicate patient id\n",
    "- Accuracy -> data is valid but not accurate -> weight -> 1kg\n",
    "- Consistency -> both valid and accurate but written differently -> New Youk and NY"
   ]
  },
  {
   "cell_type": "markdown",
   "metadata": {},
   "source": [
    "### Order of severity\n",
    "\n",
    "Completeness <- Validity <- Accuracy <- Consistency"
   ]
  },
  {
   "cell_type": "markdown",
   "metadata": {},
   "source": [
    "### Data Cleaning Order\n",
    "\n",
    "1. Quality -> Completeness\n",
    "2. Tidiness / Messy data\n",
    "3. Quality -> Validity\n",
    "4. Quality -> Accuracy\n",
    "5. Quality -> Consistency\n",
    "\n",
    "#### Steps involved in Data cleaning\n",
    "- Define\n",
    "- Code\n",
    "- Test\n",
    "\n",
    "`Always make sure to create a copy of your pandas dataframe before you start the cleaning process`"
   ]
  },
  {
   "cell_type": "code",
   "execution_count": 7,
   "metadata": {},
   "outputs": [],
   "source": [
    "#creating copy \n",
    "audible_df = audible.copy()"
   ]
  },
  {
   "cell_type": "markdown",
   "metadata": {},
   "source": [
    "### Dirty Data in audible table\n",
    "`name`: has extra information beside book name `consistency`\n",
    "\n",
    "`author and narrator`: multiple entries present in single cell, some cell contains `-`  `,` `consistency`\n",
    "\n",
    "`stars`: null value present as not rated yet `completion`\n",
    "\n",
    "`narrator` and `author`: has entries named anonymous , Anonymous `consistency`\n",
    "\n",
    "`price`: some cells contains `,`  like 1,000.00 `validity`\n",
    "\n",
    "\n",
    "\n",
    "### Messy data in audible table\n",
    "`author`: unnecessary words are present that do not contribute to any meaning such as \n",
    "\n",
    "`author` and `narrator` : has unnecessary information as 'written by' and 'narrated by'\n",
    "\n",
    "`author and narrator`: first name and last name are not separated,different languagues present\n",
    "\n",
    "`time` and `released date`: should be in datetime format\n",
    "\n",
    "`stars` renamed as rating and should have only rating not a whole sentence and it's type should be int\n",
    "\n",
    "`price`: has object datatype should be int\n",
    "\n",
    "`language`: cotains first letter as small and somtimes capital -> should be in one form\n",
    "r ice\n",
    "\n",
    "\n",
    "\n",
    " \n"
   ]
  },
  {
   "cell_type": "markdown",
   "metadata": {},
   "source": [
    "`releasedate` , `language` , `stars` , `price` : has incorrect datatype should be datetime64,category,float,int"
   ]
  },
  {
   "cell_type": "markdown",
   "metadata": {},
   "source": [
    "### Automatic Assessment\n",
    "\n",
    "- head and tail\n",
    "- sample\n",
    "- info\n",
    "- isnull\n",
    "- duplicated\n",
    "- describe"
   ]
  },
  {
   "cell_type": "code",
   "execution_count": 11,
   "metadata": {},
   "outputs": [
    {
     "name": "stdout",
     "output_type": "stream",
     "text": [
      "<class 'pandas.core.frame.DataFrame'>\n",
      "RangeIndex: 87489 entries, 0 to 87488\n",
      "Data columns (total 8 columns):\n",
      " #   Column       Non-Null Count  Dtype \n",
      "---  ------       --------------  ----- \n",
      " 0   name         87489 non-null  object\n",
      " 1   author       87489 non-null  object\n",
      " 2   narrator     87489 non-null  object\n",
      " 3   time         87489 non-null  object\n",
      " 4   releasedate  87489 non-null  object\n",
      " 5   language     87489 non-null  object\n",
      " 6   stars        87489 non-null  object\n",
      " 7   price        87489 non-null  object\n",
      "dtypes: object(8)\n",
      "memory usage: 5.3+ MB\n"
     ]
    }
   ],
   "source": [
    "audible_df.info()"
   ]
  },
  {
   "cell_type": "markdown",
   "metadata": {},
   "source": [
    "### cleaning column stars"
   ]
  },
  {
   "cell_type": "code",
   "execution_count": 13,
   "metadata": {},
   "outputs": [
    {
     "data": {
      "text/plain": [
       "3249         5 out of 5 stars1 rating\n",
       "79119       5 out of 5 stars2 ratings\n",
       "74423       4 out of 5 stars2 ratings\n",
       "13861       4 out of 5 stars4 ratings\n",
       "69861                   Not rated yet\n",
       "59363       4 out of 5 stars2 ratings\n",
       "38601                   Not rated yet\n",
       "1423     4.5 out of 5 stars11 ratings\n",
       "48901                   Not rated yet\n",
       "7898                    Not rated yet\n",
       "Name: stars, dtype: object"
      ]
     },
     "execution_count": 13,
     "metadata": {},
     "output_type": "execute_result"
    }
   ],
   "source": [
    "#handling coulmn stars\n",
    "audible_df['stars'].sample(10)\n",
    "\n",
    "#values present as ['Not rated yet','4.5 out of 5 stars41 ratings',]"
   ]
  },
  {
   "cell_type": "code",
   "execution_count": 14,
   "metadata": {},
   "outputs": [],
   "source": [
    "# we will create a new column named as rating\n",
    "audible_df['ratings'] = audible_df.stars.str.split('stars').str.get(1).str.split().str.get(0)"
   ]
  },
  {
   "cell_type": "code",
   "execution_count": 15,
   "metadata": {},
   "outputs": [],
   "source": [
    "#changing the datatype of columns ratings to int\n",
    "audible_df['ratings'] = pd.to_numeric(audible_df.ratings,downcast='float',errors='coerce')"
   ]
  },
  {
   "cell_type": "code",
   "execution_count": 16,
   "metadata": {},
   "outputs": [],
   "source": [
    "#filling NA values in ratings to 0 so that they can be converted into int\n",
    "audible_df.ratings = audible_df.ratings.fillna(0).astype('int32')"
   ]
  },
  {
   "cell_type": "code",
   "execution_count": 17,
   "metadata": {},
   "outputs": [
    {
     "data": {
      "text/plain": [
       "60492                  Not rated yet\n",
       "19628                  Not rated yet\n",
       "65790                  Not rated yet\n",
       "41924                  Not rated yet\n",
       "59287    4.5 out of 5 stars7 ratings\n",
       "65284                  Not rated yet\n",
       "18040                  Not rated yet\n",
       "36960                  Not rated yet\n",
       "17039                  Not rated yet\n",
       "84645                  Not rated yet\n",
       "Name: stars, dtype: object"
      ]
     },
     "execution_count": 17,
     "metadata": {},
     "output_type": "execute_result"
    }
   ],
   "source": [
    "#handling coulmn stars\n",
    "audible_df['stars'].sample(10)"
   ]
  },
  {
   "cell_type": "code",
   "execution_count": 18,
   "metadata": {},
   "outputs": [],
   "source": [
    "#Replacing 'Not rated yet' with 0 and extracting star rating and storing it in \n",
    "audible_df.stars = audible_df.stars.replace('Not rated yet',0).str.split('out').str.get(0)"
   ]
  },
  {
   "cell_type": "code",
   "execution_count": 19,
   "metadata": {},
   "outputs": [],
   "source": [
    "#converting its datatype to float32 to save memory\n",
    "audible_df.stars = audible_df.stars.astype('float32').fillna(0)"
   ]
  },
  {
   "cell_type": "code",
   "execution_count": 20,
   "metadata": {},
   "outputs": [
    {
     "name": "stdout",
     "output_type": "stream",
     "text": [
      "<class 'pandas.core.frame.DataFrame'>\n",
      "RangeIndex: 87489 entries, 0 to 87488\n",
      "Data columns (total 9 columns):\n",
      " #   Column       Non-Null Count  Dtype  \n",
      "---  ------       --------------  -----  \n",
      " 0   name         87489 non-null  object \n",
      " 1   author       87489 non-null  object \n",
      " 2   narrator     87489 non-null  object \n",
      " 3   time         87489 non-null  object \n",
      " 4   releasedate  87489 non-null  object \n",
      " 5   language     87489 non-null  object \n",
      " 6   stars        87489 non-null  float32\n",
      " 7   price        87489 non-null  object \n",
      " 8   ratings      87489 non-null  int32  \n",
      "dtypes: float32(1), int32(1), object(7)\n",
      "memory usage: 5.3+ MB\n"
     ]
    }
   ],
   "source": [
    "audible_df.info()"
   ]
  },
  {
   "cell_type": "code",
   "execution_count": 25,
   "metadata": {},
   "outputs": [
    {
     "data": {
      "text/plain": [
       "0            Narratedby:BillLobely\n",
       "1         Narratedby:RobbieDaymond\n",
       "2            Narratedby:DanRussell\n",
       "3        Narratedby:SoneelaNankani\n",
       "4        Narratedby:JesseBernstein\n",
       "                   ...            \n",
       "87484      Narratedby:ChrisStewart\n",
       "87485        Narratedby:RobertFass\n",
       "87486         Narratedby:FloGibson\n",
       "87487       Narratedby:AntonLesser\n",
       "87488       Narratedby:FleetCooper\n",
       "Name: narrator, Length: 87489, dtype: object"
      ]
     },
     "execution_count": 25,
     "metadata": {},
     "output_type": "execute_result"
    }
   ],
   "source": [
    "audible_df.narrator"
   ]
  },
  {
   "cell_type": "code",
   "execution_count": 26,
   "metadata": {},
   "outputs": [
    {
     "name": "stdout",
     "output_type": "stream",
     "text": [
      "<class 'pandas.core.frame.DataFrame'>\n",
      "RangeIndex: 87489 entries, 0 to 87488\n",
      "Data columns (total 9 columns):\n",
      " #   Column       Non-Null Count  Dtype  \n",
      "---  ------       --------------  -----  \n",
      " 0   name         87489 non-null  object \n",
      " 1   author       87489 non-null  object \n",
      " 2   narrator     87489 non-null  object \n",
      " 3   time         87489 non-null  object \n",
      " 4   releasedate  87489 non-null  object \n",
      " 5   language     87489 non-null  object \n",
      " 6   stars        87489 non-null  float32\n",
      " 7   price        87489 non-null  object \n",
      " 8   ratings      87489 non-null  int32  \n",
      "dtypes: float32(1), int32(1), object(7)\n",
      "memory usage: 5.3+ MB\n"
     ]
    }
   ],
   "source": [
    "audible_df.info()"
   ]
  },
  {
   "cell_type": "code",
   "execution_count": 27,
   "metadata": {},
   "outputs": [],
   "source": [
    "#now we will assess and clean the 'narrator' and 'author' columns"
   ]
  },
  {
   "cell_type": "markdown",
   "metadata": {},
   "source": [
    "### Dirty Data in audible table\n",
    "`name`: has extra information beside book name `consistency`\n",
    "\n",
    "`author and narrator`: multiple entries present in single cell, some cell contains `-`  `,` `consistency`\n",
    "\n",
    "`stars`: null value present as not rated yet `completion`\n",
    "\n",
    "`narrator`: has entries named anonymous , Anonymous `completion`\n",
    "\n",
    "`price`: some cells contains `,`  like 1,000.00 `validity`\n",
    "\n",
    "\n",
    "\n",
    "### Messy data in audible table\n",
    "`author`: unnecessary words are present that do not contribute to any meaning such as \n",
    "\n",
    "`author` and `narrator` : has unnecessary information as 'written by' and 'narrated by'\n",
    "\n",
    "`author and narrator`: first name and last name are not separated,different languagues present\n",
    "\n",
    "`time` and `released date`: should be in datetime format\n",
    "\n",
    "`stars` renamed as rating and should have only rating not a whole sentence and it's type should be int\n",
    "\n",
    "`price`: has object datatype should be int\n",
    "\n",
    "`language`: cotains first letter as small and somtimes capital -> datatype shoulf be category\n",
    "\n",
    "\n",
    "\n",
    " \n"
   ]
  },
  {
   "cell_type": "markdown",
   "metadata": {},
   "source": [
    "### Cleaning columns narrator and author"
   ]
  },
  {
   "cell_type": "code",
   "execution_count": 30,
   "metadata": {},
   "outputs": [],
   "source": [
    "audible_df.narrator = audible_df.narrator.str.split(':').str.get(1)"
   ]
  },
  {
   "cell_type": "code",
   "execution_count": 31,
   "metadata": {},
   "outputs": [],
   "source": [
    "audible_df.author = audible_df.author.str.split(':').str.get(1)"
   ]
  },
  {
   "cell_type": "code",
   "execution_count": 32,
   "metadata": {},
   "outputs": [
    {
     "data": {
      "text/html": [
       "<div>\n",
       "<style scoped>\n",
       "    .dataframe tbody tr th:only-of-type {\n",
       "        vertical-align: middle;\n",
       "    }\n",
       "\n",
       "    .dataframe tbody tr th {\n",
       "        vertical-align: top;\n",
       "    }\n",
       "\n",
       "    .dataframe thead th {\n",
       "        text-align: right;\n",
       "    }\n",
       "</style>\n",
       "<table border=\"1\" class=\"dataframe\">\n",
       "  <thead>\n",
       "    <tr style=\"text-align: right;\">\n",
       "      <th></th>\n",
       "      <th>name</th>\n",
       "      <th>author</th>\n",
       "      <th>narrator</th>\n",
       "      <th>time</th>\n",
       "      <th>releasedate</th>\n",
       "      <th>language</th>\n",
       "      <th>stars</th>\n",
       "      <th>price</th>\n",
       "      <th>ratings</th>\n",
       "    </tr>\n",
       "  </thead>\n",
       "  <tbody>\n",
       "    <tr>\n",
       "      <th>193</th>\n",
       "      <td>Swamp Sting!</td>\n",
       "      <td>SebastianFacio,BlakeA.Hoena</td>\n",
       "      <td>anonymous</td>\n",
       "      <td>11 mins</td>\n",
       "      <td>16-03-22</td>\n",
       "      <td>English</td>\n",
       "      <td>0.0</td>\n",
       "      <td>105.00</td>\n",
       "      <td>0</td>\n",
       "    </tr>\n",
       "    <tr>\n",
       "      <th>723</th>\n",
       "      <td>The Aeneid</td>\n",
       "      <td>DiegoAgrimbau,MarceloSosa,TrustedTranslations</td>\n",
       "      <td>anonymous</td>\n",
       "      <td>33 mins</td>\n",
       "      <td>16-03-22</td>\n",
       "      <td>English</td>\n",
       "      <td>0.0</td>\n",
       "      <td>82.00</td>\n",
       "      <td>0</td>\n",
       "    </tr>\n",
       "    <tr>\n",
       "      <th>724</th>\n",
       "      <td>Nuclear Distraction</td>\n",
       "      <td>ChrisEverheart,ArcanaStudio</td>\n",
       "      <td>anonymous</td>\n",
       "      <td>14 mins</td>\n",
       "      <td>16-03-22</td>\n",
       "      <td>English</td>\n",
       "      <td>0.0</td>\n",
       "      <td>140.00</td>\n",
       "      <td>0</td>\n",
       "    </tr>\n",
       "    <tr>\n",
       "      <th>725</th>\n",
       "      <td>Beauty and the Dreaded Sea Beast</td>\n",
       "      <td>OtisFrampton,LouiseSimonson</td>\n",
       "      <td>anonymous</td>\n",
       "      <td>14 mins</td>\n",
       "      <td>16-03-22</td>\n",
       "      <td>English</td>\n",
       "      <td>0.0</td>\n",
       "      <td>82.00</td>\n",
       "      <td>0</td>\n",
       "    </tr>\n",
       "    <tr>\n",
       "      <th>726</th>\n",
       "      <td>Double Trouble</td>\n",
       "      <td>ScottNickel,SteveHarpster</td>\n",
       "      <td>anonymous</td>\n",
       "      <td>6 mins</td>\n",
       "      <td>16-03-22</td>\n",
       "      <td>English</td>\n",
       "      <td>0.0</td>\n",
       "      <td>105.00</td>\n",
       "      <td>0</td>\n",
       "    </tr>\n",
       "    <tr>\n",
       "      <th>...</th>\n",
       "      <td>...</td>\n",
       "      <td>...</td>\n",
       "      <td>...</td>\n",
       "      <td>...</td>\n",
       "      <td>...</td>\n",
       "      <td>...</td>\n",
       "      <td>...</td>\n",
       "      <td>...</td>\n",
       "      <td>...</td>\n",
       "    </tr>\n",
       "    <tr>\n",
       "      <th>31675</th>\n",
       "      <td>Twelve Steps and Twelve Traditions</td>\n",
       "      <td>Anonymous</td>\n",
       "      <td>Anonymous</td>\n",
       "      <td>5 hrs and 17 mins</td>\n",
       "      <td>23-01-21</td>\n",
       "      <td>English</td>\n",
       "      <td>0.0</td>\n",
       "      <td>209.00</td>\n",
       "      <td>0</td>\n",
       "    </tr>\n",
       "    <tr>\n",
       "      <th>37316</th>\n",
       "      <td>The Election of 1860</td>\n",
       "      <td>JessicaGunderson</td>\n",
       "      <td>Anonymous</td>\n",
       "      <td>41 mins</td>\n",
       "      <td>21-02-22</td>\n",
       "      <td>English</td>\n",
       "      <td>0.0</td>\n",
       "      <td>117.00</td>\n",
       "      <td>0</td>\n",
       "    </tr>\n",
       "    <tr>\n",
       "      <th>37701</th>\n",
       "      <td>Georgia</td>\n",
       "      <td>BridgetParker,JasonKirchner</td>\n",
       "      <td>anonymous</td>\n",
       "      <td>13 mins</td>\n",
       "      <td>18-03-22</td>\n",
       "      <td>English</td>\n",
       "      <td>0.0</td>\n",
       "      <td>93.00</td>\n",
       "      <td>0</td>\n",
       "    </tr>\n",
       "    <tr>\n",
       "      <th>47176</th>\n",
       "      <td>Nandhi (Tamil Edition)</td>\n",
       "      <td>P.Mathiyalagan</td>\n",
       "      <td>Anonymous</td>\n",
       "      <td>1 hr and 51 mins</td>\n",
       "      <td>14-02-22</td>\n",
       "      <td>tamil</td>\n",
       "      <td>0.0</td>\n",
       "      <td>48.00</td>\n",
       "      <td>0</td>\n",
       "    </tr>\n",
       "    <tr>\n",
       "      <th>80928</th>\n",
       "      <td>Simple Bike Maintenance</td>\n",
       "      <td>LisaJ.Amstutz</td>\n",
       "      <td>anonymous</td>\n",
       "      <td>2 mins</td>\n",
       "      <td>21-02-22</td>\n",
       "      <td>English</td>\n",
       "      <td>0.0</td>\n",
       "      <td>82.00</td>\n",
       "      <td>0</td>\n",
       "    </tr>\n",
       "  </tbody>\n",
       "</table>\n",
       "<p>1194 rows × 9 columns</p>\n",
       "</div>"
      ],
      "text/plain": [
       "                                     name  \\\n",
       "193                          Swamp Sting!   \n",
       "723                            The Aeneid   \n",
       "724                   Nuclear Distraction   \n",
       "725      Beauty and the Dreaded Sea Beast   \n",
       "726                        Double Trouble   \n",
       "...                                   ...   \n",
       "31675  Twelve Steps and Twelve Traditions   \n",
       "37316                The Election of 1860   \n",
       "37701                             Georgia   \n",
       "47176              Nandhi (Tamil Edition)   \n",
       "80928             Simple Bike Maintenance   \n",
       "\n",
       "                                              author   narrator  \\\n",
       "193                      SebastianFacio,BlakeA.Hoena  anonymous   \n",
       "723    DiegoAgrimbau,MarceloSosa,TrustedTranslations  anonymous   \n",
       "724                      ChrisEverheart,ArcanaStudio  anonymous   \n",
       "725                      OtisFrampton,LouiseSimonson  anonymous   \n",
       "726                        ScottNickel,SteveHarpster  anonymous   \n",
       "...                                              ...        ...   \n",
       "31675                                      Anonymous  Anonymous   \n",
       "37316                               JessicaGunderson  Anonymous   \n",
       "37701                    BridgetParker,JasonKirchner  anonymous   \n",
       "47176                                 P.Mathiyalagan  Anonymous   \n",
       "80928                                  LisaJ.Amstutz  anonymous   \n",
       "\n",
       "                    time releasedate language  stars   price  ratings  \n",
       "193              11 mins    16-03-22  English    0.0  105.00        0  \n",
       "723              33 mins    16-03-22  English    0.0   82.00        0  \n",
       "724              14 mins    16-03-22  English    0.0  140.00        0  \n",
       "725              14 mins    16-03-22  English    0.0   82.00        0  \n",
       "726               6 mins    16-03-22  English    0.0  105.00        0  \n",
       "...                  ...         ...      ...    ...     ...      ...  \n",
       "31675  5 hrs and 17 mins    23-01-21  English    0.0  209.00        0  \n",
       "37316            41 mins    21-02-22  English    0.0  117.00        0  \n",
       "37701            13 mins    18-03-22  English    0.0   93.00        0  \n",
       "47176   1 hr and 51 mins    14-02-22    tamil    0.0   48.00        0  \n",
       "80928             2 mins    21-02-22  English    0.0   82.00        0  \n",
       "\n",
       "[1194 rows x 9 columns]"
      ]
     },
     "execution_count": 32,
     "metadata": {},
     "output_type": "execute_result"
    }
   ],
   "source": [
    "audible_df.query(\"narrator == 'anonymous' or narrator == 'Anonymous'\")"
   ]
  },
  {
   "cell_type": "code",
   "execution_count": 33,
   "metadata": {},
   "outputs": [],
   "source": [
    "#replace all Anonymous with anonymous\n",
    "audible_df = audible_df.replace('Anonymous','anonymous')"
   ]
  },
  {
   "cell_type": "code",
   "execution_count": 34,
   "metadata": {},
   "outputs": [
    {
     "name": "stdout",
     "output_type": "stream",
     "text": [
      "<class 'pandas.core.frame.DataFrame'>\n",
      "RangeIndex: 87489 entries, 0 to 87488\n",
      "Data columns (total 9 columns):\n",
      " #   Column       Non-Null Count  Dtype  \n",
      "---  ------       --------------  -----  \n",
      " 0   name         87489 non-null  object \n",
      " 1   author       87489 non-null  object \n",
      " 2   narrator     87489 non-null  object \n",
      " 3   time         87489 non-null  object \n",
      " 4   releasedate  87489 non-null  object \n",
      " 5   language     87489 non-null  object \n",
      " 6   stars        87489 non-null  float32\n",
      " 7   price        87489 non-null  object \n",
      " 8   ratings      87489 non-null  int32  \n",
      "dtypes: float32(1), int32(1), object(7)\n",
      "memory usage: 5.3+ MB\n"
     ]
    }
   ],
   "source": [
    "audible_df.info()"
   ]
  },
  {
   "cell_type": "markdown",
   "metadata": {},
   "source": [
    "#### assessing column time and releasedate"
   ]
  },
  {
   "cell_type": "code",
   "execution_count": 36,
   "metadata": {},
   "outputs": [
    {
     "name": "stderr",
     "output_type": "stream",
     "text": [
      "C:\\Users\\DELL\\AppData\\Local\\Temp\\ipykernel_9132\\2622841027.py:1: UserWarning: Could not infer format, so each element will be parsed individually, falling back to `dateutil`. To ensure parsing is consistent and as-expected, please specify a format.\n",
      "  audible_df.releasedate = pd.to_datetime(audible_df.releasedate)\n"
     ]
    }
   ],
   "source": [
    "audible_df.releasedate = pd.to_datetime(audible_df.releasedate)"
   ]
  },
  {
   "cell_type": "code",
   "execution_count": 218,
   "metadata": {},
   "outputs": [],
   "source": [
    "#regex function to extract hours and minutes from 'time' columns\n",
    "import re\n",
    "def extract_text(text):\n",
    "    pattern = r'(?:(\\d+)\\s*hrs?)?(?:\\s*and\\s*)?(?:(\\d+)\\s*mins?)?'\n",
    "\n",
    "    match = re.search(pattern, text)\n",
    "    \n",
    "    hours = match.group(1) if match.group(1) else \"00\"\n",
    "    minutes = match.group(2) if match.group(2) else \"00\"\n",
    "    return f\"{hours.zfill(2)}:{minutes.zfill(2)}\"\n",
    "    \n"
   ]
  },
  {
   "cell_type": "code",
   "execution_count": 195,
   "metadata": {},
   "outputs": [],
   "source": [
    "#formatting time columns\n",
    "audible_df.time = audible_df.time.apply(extract_text)"
   ]
  },
  {
   "cell_type": "code",
   "execution_count": 226,
   "metadata": {},
   "outputs": [],
   "source": [
    "#audible_df.time.apply(lambda x : x + \":00\")"
   ]
  }
 ],
 "metadata": {
  "colab": {
   "provenance": []
  },
  "kernelspec": {
   "display_name": "Python 3 (ipykernel)",
   "language": "python",
   "name": "python3"
  },
  "language_info": {
   "codemirror_mode": {
    "name": "ipython",
    "version": 3
   },
   "file_extension": ".py",
   "mimetype": "text/x-python",
   "name": "python",
   "nbconvert_exporter": "python",
   "pygments_lexer": "ipython3",
   "version": "3.12.4"
  }
 },
 "nbformat": 4,
 "nbformat_minor": 4
}
