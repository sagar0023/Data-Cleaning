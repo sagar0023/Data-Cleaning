{
 "cells": [
  {
   "cell_type": "markdown",
   "metadata": {
    "id": "1-EbgBO3hInD"
   },
   "source": [
    "**Problem:**\n",
    "\n",
    "You are given the following dataset:\n",
    "1. **Audible Data** : https://1drv.ms/u/s!AiqdXCxPTydhoog8ckLN-6Cw55fzIg?e=EWgZ5d\n",
    "\n",
    "Your task is to:\n",
    "- Find the problems with the datasets.\n",
    "- Define the Data Quality Dimensions.\n",
    "- Try to clean the datasets."
   ]
  },
  {
   "cell_type": "code",
   "execution_count": 2,
   "metadata": {
    "id": "mk6Vgms9cMfd"
   },
   "outputs": [],
   "source": [
    "import pandas as pd\n",
    "import numpy as np\n",
    "audible = pd.read_csv('audible_uncleaned.csv')"
   ]
  },
  {
   "cell_type": "code",
   "execution_count": 8,
   "metadata": {
    "id": "nxoqZxJMhI_y"
   },
   "outputs": [],
   "source": [
    "audible.to_excel('audible.xlsx',index=False)"
   ]
  },
  {
   "cell_type": "markdown",
   "metadata": {},
   "source": [
    "### Data Quality Dimensions\n",
    "\n",
    "- Completeness -> is data missing?\n",
    "- Validity -> is data invalid -> negative height -> duplicate patient id\n",
    "- Accuracy -> data is valid but not accurate -> weight -> 1kg\n",
    "- Consistency -> both valid and accurate but written differently -> New Youk and NY"
   ]
  },
  {
   "cell_type": "markdown",
   "metadata": {},
   "source": [
    "### Order of severity\n",
    "\n",
    "Completeness <- Validity <- Accuracy <- Consistency"
   ]
  },
  {
   "cell_type": "markdown",
   "metadata": {},
   "source": [
    "### Data Cleaning Order\n",
    "\n",
    "1. Quality -> Completeness\n",
    "2. Tidiness / Messy data\n",
    "3. Quality -> Validity\n",
    "4. Quality -> Accuracy\n",
    "5. Quality -> Consistency\n",
    "\n",
    "#### Steps involved in Data cleaning\n",
    "- Define\n",
    "- Code\n",
    "- Test\n",
    "\n",
    "`Always make sure to create a copy of your pandas dataframe before you start the cleaning process`"
   ]
  },
  {
   "cell_type": "code",
   "execution_count": 4,
   "metadata": {},
   "outputs": [],
   "source": [
    "#creating copy \n",
    "audible_df = audible.copy()"
   ]
  },
  {
   "cell_type": "markdown",
   "metadata": {},
   "source": [
    "### Dirty Data in audible table\n",
    "`name`: has extra information beside book name `consistency`\n",
    "\n",
    "`author and narrator`: multiple entries present in single cell, some cell contains `-`  `,` `consistency`\n",
    "\n",
    "`stars`: null value present as not rated yet `completion`\n",
    "\n",
    "`narrator`: has entries named anonymous , Anonymous `completion`\n",
    "\n",
    "`price`: some cells contains `,`  like 1,000.00 `validity`\n",
    "\n",
    "\n",
    "\n",
    "### Messy data in audible table\n",
    "`author`: unnecessary words are present that do not contribute to any meaning such as \n",
    "\n",
    "`author` and `narrator` : has unnecessary information as 'written by' and 'narrated by'\n",
    "\n",
    "`author and narrator`: first name and last name are not separated,different languagues present\n",
    "\n",
    "`time` and `released date`: should be in datetime format\n",
    "\n",
    "`stars` renamed as rating and should have only rating not a whole sentence and it's type should be int\n",
    "\n",
    "`price`: has object datatype should be int\n",
    "\n",
    "`language`: cotains first letter as small and somtimes capital -> should be in one form\n",
    "r ice\n",
    "\n",
    "\n",
    "\n",
    " \n"
   ]
  },
  {
   "cell_type": "markdown",
   "metadata": {},
   "source": [
    "`releasedate` , `language` , `stars` , `price` : has incorrect datatype should be datetime64,category,float,int"
   ]
  },
  {
   "cell_type": "markdown",
   "metadata": {},
   "source": [
    "### Automatic Assessment\n",
    "\n",
    "- head and tail\n",
    "- sample\n",
    "- info\n",
    "- isnull\n",
    "- duplicated\n",
    "- describe"
   ]
  },
  {
   "cell_type": "code",
   "execution_count": 6,
   "metadata": {},
   "outputs": [
    {
     "name": "stdout",
     "output_type": "stream",
     "text": [
      "<class 'pandas.core.frame.DataFrame'>\n",
      "RangeIndex: 87489 entries, 0 to 87488\n",
      "Data columns (total 8 columns):\n",
      " #   Column       Non-Null Count  Dtype \n",
      "---  ------       --------------  ----- \n",
      " 0   name         87489 non-null  object\n",
      " 1   author       87489 non-null  object\n",
      " 2   narrator     87489 non-null  object\n",
      " 3   time         87489 non-null  object\n",
      " 4   releasedate  87489 non-null  object\n",
      " 5   language     87489 non-null  object\n",
      " 6   stars        87489 non-null  object\n",
      " 7   price        87489 non-null  object\n",
      "dtypes: object(8)\n",
      "memory usage: 5.3+ MB\n"
     ]
    }
   ],
   "source": [
    "audible_df.info()"
   ]
  },
  {
   "cell_type": "code",
   "execution_count": 8,
   "metadata": {},
   "outputs": [
    {
     "data": {
      "text/plain": [
       "46387                   Not rated yet\n",
       "48091                   Not rated yet\n",
       "12639                   Not rated yet\n",
       "32516    4.5 out of 5 stars11 ratings\n",
       "43997                   Not rated yet\n",
       "23872                   Not rated yet\n",
       "13885                   Not rated yet\n",
       "59196    4.5 out of 5 stars22 ratings\n",
       "74638                   Not rated yet\n",
       "1736                    Not rated yet\n",
       "Name: stars, dtype: object"
      ]
     },
     "execution_count": 8,
     "metadata": {},
     "output_type": "execute_result"
    }
   ],
   "source": [
    "#handling coulmn stars\n",
    "audible_df['stars'].sample(10)\n",
    "\n",
    "#values present as ['Not rated yet','4.5 out of 5 stars41 ratings',]"
   ]
  },
  {
   "cell_type": "code",
   "execution_count": 10,
   "metadata": {},
   "outputs": [],
   "source": [
    "# we will create a new column named as rating\n",
    "audible_df['ratings'] = audible_df.stars.str.split('stars').str.get(1).str.split().str.get(0)"
   ]
  },
  {
   "cell_type": "code",
   "execution_count": 12,
   "metadata": {},
   "outputs": [],
   "source": [
    "#changing the datatype of columns ratings to int\n",
    "audible_df['ratings'] = pd.to_numeric(audible_df.ratings,downcast='float',errors='coerce')"
   ]
  },
  {
   "cell_type": "code",
   "execution_count": 16,
   "metadata": {},
   "outputs": [],
   "source": [
    "#filling NA values in ratings to 0 so that they can be converted into int\n",
    "audible_df.ratings = audible_df.ratings.fillna(0).astype('int32')"
   ]
  },
  {
   "cell_type": "code",
   "execution_count": 18,
   "metadata": {},
   "outputs": [
    {
     "data": {
      "text/plain": [
       "21925               Not rated yet\n",
       "3219                Not rated yet\n",
       "47654               Not rated yet\n",
       "32554    5 out of 5 stars1 rating\n",
       "22140               Not rated yet\n",
       "68494               Not rated yet\n",
       "80433               Not rated yet\n",
       "23471               Not rated yet\n",
       "18025               Not rated yet\n",
       "20529               Not rated yet\n",
       "Name: stars, dtype: object"
      ]
     },
     "execution_count": 18,
     "metadata": {},
     "output_type": "execute_result"
    }
   ],
   "source": [
    "#handling coulmn stars\n",
    "audible_df['stars'].sample(10)"
   ]
  },
  {
   "cell_type": "code",
   "execution_count": 20,
   "metadata": {},
   "outputs": [],
   "source": [
    "#Replacing 'Not rated yet' with 0 and extracting star rating and storing it in \n",
    "audible_df.stars = audible_df.stars.replace('Not rated yet',0).str.split('out').str.get(0)"
   ]
  },
  {
   "cell_type": "code",
   "execution_count": 22,
   "metadata": {},
   "outputs": [],
   "source": [
    "#converting its datatype to float32 to save memory\n",
    "audible_df.stars = audible_df.stars.astype('float32').fillna(0)"
   ]
  },
  {
   "cell_type": "code",
   "execution_count": 26,
   "metadata": {},
   "outputs": [
    {
     "name": "stdout",
     "output_type": "stream",
     "text": [
      "<class 'pandas.core.frame.DataFrame'>\n",
      "RangeIndex: 87489 entries, 0 to 87488\n",
      "Data columns (total 9 columns):\n",
      " #   Column       Non-Null Count  Dtype  \n",
      "---  ------       --------------  -----  \n",
      " 0   name         87489 non-null  object \n",
      " 1   author       87489 non-null  object \n",
      " 2   narrator     87489 non-null  object \n",
      " 3   time         87489 non-null  object \n",
      " 4   releasedate  87489 non-null  object \n",
      " 5   language     87489 non-null  object \n",
      " 6   stars        87489 non-null  float32\n",
      " 7   price        87489 non-null  object \n",
      " 8   ratings      87489 non-null  int32  \n",
      "dtypes: float32(1), int32(1), object(7)\n",
      "memory usage: 5.3+ MB\n"
     ]
    }
   ],
   "source": [
    "audible_df.info()"
   ]
  },
  {
   "cell_type": "code",
   "execution_count": null,
   "metadata": {},
   "outputs": [],
   "source": []
  }
 ],
 "metadata": {
  "colab": {
   "provenance": []
  },
  "kernelspec": {
   "display_name": "Python 3 (ipykernel)",
   "language": "python",
   "name": "python3"
  },
  "language_info": {
   "codemirror_mode": {
    "name": "ipython",
    "version": 3
   },
   "file_extension": ".py",
   "mimetype": "text/x-python",
   "name": "python",
   "nbconvert_exporter": "python",
   "pygments_lexer": "ipython3",
   "version": "3.12.4"
  }
 },
 "nbformat": 4,
 "nbformat_minor": 4
}
